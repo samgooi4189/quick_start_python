{
 "cells": [
  {
   "cell_type": "markdown",
   "metadata": {},
   "source": [
    "In this tutorial, we want to get a chart on time taken for a train from point A to point B"
   ]
  },
  {
   "cell_type": "code",
   "execution_count": 1,
   "metadata": {},
   "outputs": [
    {
     "name": "stderr",
     "output_type": "stream",
     "text": [
      "/usr/lib/python3.6/importlib/_bootstrap.py:219: RuntimeWarning: numpy.dtype size changed, may indicate binary incompatibility. Expected 96, got 88\n",
      "  return f(*args, **kwds)\n",
      "/usr/lib/python3.6/importlib/_bootstrap.py:219: RuntimeWarning: numpy.dtype size changed, may indicate binary incompatibility. Expected 96, got 88\n",
      "  return f(*args, **kwds)\n"
     ]
    }
   ],
   "source": [
    "import pandas as pd\n",
    "import numpy as np\n",
    "import matplotlib.pyplot as plt\n",
    "% matplotlib inline"
   ]
  },
  {
   "cell_type": "markdown",
   "metadata": {},
   "source": [
    "First we load a csv from MOT Malaysia"
   ]
  },
  {
   "cell_type": "code",
   "execution_count": 2,
   "metadata": {},
   "outputs": [],
   "source": [
    "df = pd.read_csv(\"jadual-perjalanan-train-ets-padang-besar---gemas.csv\")"
   ]
  },
  {
   "cell_type": "markdown",
   "metadata": {},
   "source": [
    "Lets see what is the top 10 rows"
   ]
  },
  {
   "cell_type": "code",
   "execution_count": 3,
   "metadata": {},
   "outputs": [
    {
     "data": {
      "text/html": [
       "<div>\n",
       "<style scoped>\n",
       "    .dataframe tbody tr th:only-of-type {\n",
       "        vertical-align: middle;\n",
       "    }\n",
       "\n",
       "    .dataframe tbody tr th {\n",
       "        vertical-align: top;\n",
       "    }\n",
       "\n",
       "    .dataframe thead th {\n",
       "        text-align: right;\n",
       "    }\n",
       "</style>\n",
       "<table border=\"1\" class=\"dataframe\">\n",
       "  <thead>\n",
       "    <tr style=\"text-align: right;\">\n",
       "      <th></th>\n",
       "      <th>STESEN</th>\n",
       "      <th>ES9051</th>\n",
       "      <th>EG9053</th>\n",
       "      <th>EG9121</th>\n",
       "      <th>EP9103</th>\n",
       "      <th>EG9025</th>\n",
       "      <th>EG9321</th>\n",
       "      <th>EG9221</th>\n",
       "      <th>EG9027</th>\n",
       "      <th>EG9029</th>\n",
       "      <th>EP9201</th>\n",
       "      <th>EG9031</th>\n",
       "      <th>EP9203</th>\n",
       "      <th>EP9105</th>\n",
       "      <th>EG9035</th>\n",
       "      <th>EG9037</th>\n",
       "      <th>EP9205</th>\n",
       "      <th>EG9425</th>\n",
       "      <th>EG9123</th>\n",
       "    </tr>\n",
       "  </thead>\n",
       "  <tbody>\n",
       "    <tr>\n",
       "      <th>0</th>\n",
       "      <td>PADANG BESAR</td>\n",
       "      <td>NaN</td>\n",
       "      <td>NaN</td>\n",
       "      <td>NaN</td>\n",
       "      <td>NaN</td>\n",
       "      <td>NaN</td>\n",
       "      <td>NaN</td>\n",
       "      <td>7:47</td>\n",
       "      <td>NaN</td>\n",
       "      <td>NaN</td>\n",
       "      <td>11:15</td>\n",
       "      <td>NaN</td>\n",
       "      <td>14:20</td>\n",
       "      <td>NaN</td>\n",
       "      <td>NaN</td>\n",
       "      <td>NaN</td>\n",
       "      <td>17:13</td>\n",
       "      <td>18:05</td>\n",
       "      <td>NaN</td>\n",
       "    </tr>\n",
       "    <tr>\n",
       "      <th>1</th>\n",
       "      <td>ARAU</td>\n",
       "      <td>NaN</td>\n",
       "      <td>NaN</td>\n",
       "      <td>NaN</td>\n",
       "      <td>NaN</td>\n",
       "      <td>NaN</td>\n",
       "      <td>NaN</td>\n",
       "      <td>8:06</td>\n",
       "      <td>NaN</td>\n",
       "      <td>NaN</td>\n",
       "      <td>11:34</td>\n",
       "      <td>NaN</td>\n",
       "      <td>14:39</td>\n",
       "      <td>NaN</td>\n",
       "      <td>NaN</td>\n",
       "      <td>NaN</td>\n",
       "      <td>17:32</td>\n",
       "      <td>18:24</td>\n",
       "      <td>NaN</td>\n",
       "    </tr>\n",
       "    <tr>\n",
       "      <th>2</th>\n",
       "      <td>ANAK BUKIT</td>\n",
       "      <td>NaN</td>\n",
       "      <td>NaN</td>\n",
       "      <td>NaN</td>\n",
       "      <td>NaN</td>\n",
       "      <td>NaN</td>\n",
       "      <td>NaN</td>\n",
       "      <td>8:22</td>\n",
       "      <td>NaN</td>\n",
       "      <td>NaN</td>\n",
       "      <td>-</td>\n",
       "      <td>NaN</td>\n",
       "      <td>-</td>\n",
       "      <td>NaN</td>\n",
       "      <td>NaN</td>\n",
       "      <td>NaN</td>\n",
       "      <td>-</td>\n",
       "      <td>18:40</td>\n",
       "      <td>NaN</td>\n",
       "    </tr>\n",
       "    <tr>\n",
       "      <th>3</th>\n",
       "      <td>ALOR SETAR</td>\n",
       "      <td>NaN</td>\n",
       "      <td>NaN</td>\n",
       "      <td>NaN</td>\n",
       "      <td>NaN</td>\n",
       "      <td>NaN</td>\n",
       "      <td>NaN</td>\n",
       "      <td>8:29</td>\n",
       "      <td>NaN</td>\n",
       "      <td>NaN</td>\n",
       "      <td>11:55</td>\n",
       "      <td>NaN</td>\n",
       "      <td>15:03</td>\n",
       "      <td>NaN</td>\n",
       "      <td>NaN</td>\n",
       "      <td>NaN</td>\n",
       "      <td>17:54</td>\n",
       "      <td>18:47</td>\n",
       "      <td>NaN</td>\n",
       "    </tr>\n",
       "    <tr>\n",
       "      <th>4</th>\n",
       "      <td>GURUN</td>\n",
       "      <td>NaN</td>\n",
       "      <td>NaN</td>\n",
       "      <td>NaN</td>\n",
       "      <td>NaN</td>\n",
       "      <td>NaN</td>\n",
       "      <td>NaN</td>\n",
       "      <td>8:46</td>\n",
       "      <td>NaN</td>\n",
       "      <td>NaN</td>\n",
       "      <td>-</td>\n",
       "      <td>NaN</td>\n",
       "      <td>-</td>\n",
       "      <td>NaN</td>\n",
       "      <td>NaN</td>\n",
       "      <td>NaN</td>\n",
       "      <td>-</td>\n",
       "      <td>19:05</td>\n",
       "      <td>NaN</td>\n",
       "    </tr>\n",
       "    <tr>\n",
       "      <th>5</th>\n",
       "      <td>SUNGAI PETANI</td>\n",
       "      <td>NaN</td>\n",
       "      <td>NaN</td>\n",
       "      <td>NaN</td>\n",
       "      <td>NaN</td>\n",
       "      <td>NaN</td>\n",
       "      <td>NaN</td>\n",
       "      <td>8:59</td>\n",
       "      <td>NaN</td>\n",
       "      <td>NaN</td>\n",
       "      <td>12:24</td>\n",
       "      <td>NaN</td>\n",
       "      <td>15:33</td>\n",
       "      <td>NaN</td>\n",
       "      <td>NaN</td>\n",
       "      <td>NaN</td>\n",
       "      <td>18:23</td>\n",
       "      <td>19:18</td>\n",
       "      <td>NaN</td>\n",
       "    </tr>\n",
       "    <tr>\n",
       "      <th>6</th>\n",
       "      <td>TASEK GELUGOR</td>\n",
       "      <td>NaN</td>\n",
       "      <td>NaN</td>\n",
       "      <td>NaN</td>\n",
       "      <td>NaN</td>\n",
       "      <td>NaN</td>\n",
       "      <td>NaN</td>\n",
       "      <td>9:08</td>\n",
       "      <td>NaN</td>\n",
       "      <td>NaN</td>\n",
       "      <td>-</td>\n",
       "      <td>NaN</td>\n",
       "      <td>-</td>\n",
       "      <td>NaN</td>\n",
       "      <td>NaN</td>\n",
       "      <td>NaN</td>\n",
       "      <td>-</td>\n",
       "      <td>19:28</td>\n",
       "      <td>NaN</td>\n",
       "    </tr>\n",
       "    <tr>\n",
       "      <th>7</th>\n",
       "      <td>BUTTERWORTH</td>\n",
       "      <td>NaN</td>\n",
       "      <td>NaN</td>\n",
       "      <td>4:58</td>\n",
       "      <td>6:13</td>\n",
       "      <td>NaN</td>\n",
       "      <td>7:25</td>\n",
       "      <td>-</td>\n",
       "      <td>NaN</td>\n",
       "      <td>NaN</td>\n",
       "      <td>-</td>\n",
       "      <td>NaN</td>\n",
       "      <td>-</td>\n",
       "      <td>16:23</td>\n",
       "      <td>NaN</td>\n",
       "      <td>NaN</td>\n",
       "      <td>-</td>\n",
       "      <td>-</td>\n",
       "      <td>19:45</td>\n",
       "    </tr>\n",
       "    <tr>\n",
       "      <th>8</th>\n",
       "      <td>BUKIT MERTAJAM</td>\n",
       "      <td>NaN</td>\n",
       "      <td>NaN</td>\n",
       "      <td>5:09</td>\n",
       "      <td>6:24</td>\n",
       "      <td>NaN</td>\n",
       "      <td>7:36</td>\n",
       "      <td>-</td>\n",
       "      <td>NaN</td>\n",
       "      <td>NaN</td>\n",
       "      <td>-</td>\n",
       "      <td>NaN</td>\n",
       "      <td>-</td>\n",
       "      <td>16:34</td>\n",
       "      <td>NaN</td>\n",
       "      <td>NaN</td>\n",
       "      <td>-</td>\n",
       "      <td>-</td>\n",
       "      <td>19:56</td>\n",
       "    </tr>\n",
       "    <tr>\n",
       "      <th>9</th>\n",
       "      <td>PARIT BUNTAR</td>\n",
       "      <td>NaN</td>\n",
       "      <td>NaN</td>\n",
       "      <td>5:25</td>\n",
       "      <td>6:40</td>\n",
       "      <td>NaN</td>\n",
       "      <td>7:52</td>\n",
       "      <td>9:32</td>\n",
       "      <td>NaN</td>\n",
       "      <td>NaN</td>\n",
       "      <td>-</td>\n",
       "      <td>NaN</td>\n",
       "      <td>-</td>\n",
       "      <td>16:50</td>\n",
       "      <td>NaN</td>\n",
       "      <td>NaN</td>\n",
       "      <td>18:55</td>\n",
       "      <td>19:52</td>\n",
       "      <td>20:12</td>\n",
       "    </tr>\n",
       "  </tbody>\n",
       "</table>\n",
       "</div>"
      ],
      "text/plain": [
       "           STESEN ES9051 EG9053 EG9121 EP9103 EG9025 EG9321 EG9221 EG9027  \\\n",
       "0    PADANG BESAR    NaN    NaN    NaN    NaN    NaN    NaN   7:47    NaN   \n",
       "1           ARAU     NaN    NaN    NaN    NaN    NaN    NaN   8:06    NaN   \n",
       "2      ANAK BUKIT    NaN    NaN    NaN    NaN    NaN    NaN   8:22    NaN   \n",
       "3      ALOR SETAR    NaN    NaN    NaN    NaN    NaN    NaN   8:29    NaN   \n",
       "4           GURUN    NaN    NaN    NaN    NaN    NaN    NaN   8:46    NaN   \n",
       "5   SUNGAI PETANI    NaN    NaN    NaN    NaN    NaN    NaN   8:59    NaN   \n",
       "6   TASEK GELUGOR    NaN    NaN    NaN    NaN    NaN    NaN   9:08    NaN   \n",
       "7     BUTTERWORTH    NaN    NaN   4:58   6:13    NaN   7:25      -    NaN   \n",
       "8  BUKIT MERTAJAM    NaN    NaN   5:09   6:24    NaN   7:36      -    NaN   \n",
       "9    PARIT BUNTAR    NaN    NaN   5:25   6:40    NaN   7:52   9:32    NaN   \n",
       "\n",
       "  EG9029 EP9201 EG9031 EP9203 EP9105 EG9035 EG9037 EP9205 EG9425 EG9123  \n",
       "0    NaN  11:15    NaN  14:20    NaN    NaN    NaN  17:13  18:05    NaN  \n",
       "1    NaN  11:34    NaN  14:39    NaN    NaN    NaN  17:32  18:24    NaN  \n",
       "2    NaN      -    NaN      -    NaN    NaN    NaN      -  18:40    NaN  \n",
       "3    NaN  11:55    NaN  15:03    NaN    NaN    NaN  17:54  18:47    NaN  \n",
       "4    NaN      -    NaN      -    NaN    NaN    NaN      -  19:05    NaN  \n",
       "5    NaN  12:24    NaN  15:33    NaN    NaN    NaN  18:23  19:18    NaN  \n",
       "6    NaN      -    NaN      -    NaN    NaN    NaN      -  19:28    NaN  \n",
       "7    NaN      -    NaN      -  16:23    NaN    NaN      -      -  19:45  \n",
       "8    NaN      -    NaN      -  16:34    NaN    NaN      -      -  19:56  \n",
       "9    NaN      -    NaN      -  16:50    NaN    NaN  18:55  19:52  20:12  "
      ]
     },
     "execution_count": 3,
     "metadata": {},
     "output_type": "execute_result"
    }
   ],
   "source": [
    "df.head(10)\n"
   ]
  },
  {
   "cell_type": "markdown",
   "metadata": {},
   "source": [
    "Lets see how many row and column "
   ]
  },
  {
   "cell_type": "code",
   "execution_count": 4,
   "metadata": {},
   "outputs": [
    {
     "data": {
      "text/plain": [
       "(36, 19)"
      ]
     },
     "execution_count": 4,
     "metadata": {},
     "output_type": "execute_result"
    }
   ],
   "source": [
    "df.shape"
   ]
  },
  {
   "cell_type": "markdown",
   "metadata": {},
   "source": [
    "lets see the types of the data we have"
   ]
  },
  {
   "cell_type": "code",
   "execution_count": 5,
   "metadata": {},
   "outputs": [
    {
     "data": {
      "text/plain": [
       "STESEN    object\n",
       "ES9051    object\n",
       "EG9053    object\n",
       "EG9121    object\n",
       "EP9103    object\n",
       "EG9025    object\n",
       "EG9321    object\n",
       "EG9221    object\n",
       "EG9027    object\n",
       "EG9029    object\n",
       "EP9201    object\n",
       "EG9031    object\n",
       "EP9203    object\n",
       "EP9105    object\n",
       "EG9035    object\n",
       "EG9037    object\n",
       "EP9205    object\n",
       "EG9425    object\n",
       "EG9123    object\n",
       "dtype: object"
      ]
     },
     "execution_count": 5,
     "metadata": {},
     "output_type": "execute_result"
    }
   ],
   "source": [
    "df.dtypes"
   ]
  },
  {
   "cell_type": "markdown",
   "metadata": {},
   "source": [
    "Their are object, but what are they really?"
   ]
  },
  {
   "cell_type": "code",
   "execution_count": 6,
   "metadata": {},
   "outputs": [
    {
     "data": {
      "text/plain": [
       "str"
      ]
     },
     "execution_count": 6,
     "metadata": {},
     "output_type": "execute_result"
    }
   ],
   "source": [
    "type(df['STESEN'][0])"
   ]
  },
  {
   "cell_type": "code",
   "execution_count": 7,
   "metadata": {},
   "outputs": [
    {
     "data": {
      "text/plain": [
       "float"
      ]
     },
     "execution_count": 7,
     "metadata": {},
     "output_type": "execute_result"
    }
   ],
   "source": [
    "type(df['EG9123'][0])"
   ]
  },
  {
   "cell_type": "markdown",
   "metadata": {},
   "source": [
    "Does all the row of this column is float?"
   ]
  },
  {
   "cell_type": "code",
   "execution_count": 8,
   "metadata": {},
   "outputs": [
    {
     "name": "stdout",
     "output_type": "stream",
     "text": [
      "<class 'float'>\n",
      "<class 'float'>\n",
      "<class 'float'>\n",
      "<class 'float'>\n",
      "<class 'float'>\n",
      "<class 'float'>\n",
      "<class 'float'>\n",
      "<class 'str'>\n",
      "<class 'str'>\n",
      "<class 'str'>\n",
      "<class 'str'>\n",
      "<class 'str'>\n",
      "<class 'str'>\n",
      "<class 'str'>\n",
      "<class 'str'>\n",
      "<class 'str'>\n",
      "<class 'str'>\n",
      "<class 'str'>\n",
      "<class 'str'>\n",
      "<class 'str'>\n",
      "<class 'str'>\n",
      "<class 'str'>\n",
      "<class 'str'>\n",
      "<class 'str'>\n",
      "<class 'str'>\n",
      "<class 'str'>\n",
      "<class 'str'>\n",
      "<class 'str'>\n",
      "<class 'str'>\n",
      "<class 'str'>\n",
      "<class 'float'>\n",
      "<class 'float'>\n",
      "<class 'float'>\n",
      "<class 'float'>\n",
      "<class 'float'>\n",
      "<class 'float'>\n"
     ]
    }
   ],
   "source": [
    "for col in df['EG9123']:\n",
    "    print(type(col))"
   ]
  },
  {
   "cell_type": "markdown",
   "metadata": {},
   "source": [
    "Let us experiment with date time"
   ]
  },
  {
   "cell_type": "code",
   "execution_count": 9,
   "metadata": {},
   "outputs": [
    {
     "name": "stdout",
     "output_type": "stream",
     "text": [
      "the time is 23:22\n"
     ]
    }
   ],
   "source": [
    "from datetime import datetime\n",
    "time = datetime.strptime('23:22', \"%H:%M\")\n",
    "print (\"the time is %s:%s\" % (time.hour, time.minute))"
   ]
  },
  {
   "cell_type": "markdown",
   "metadata": {},
   "source": [
    "Let us try parsing the string to time"
   ]
  },
  {
   "cell_type": "code",
   "execution_count": 10,
   "metadata": {},
   "outputs": [
    {
     "name": "stdout",
     "output_type": "stream",
     "text": [
      "nan\n",
      "nan\n",
      "nan\n",
      "nan\n",
      "nan\n",
      "nan\n",
      "nan\n",
      "the time is 19:45\n",
      "the time is 19:56\n",
      "the time is 20:12\n"
     ]
    },
    {
     "ename": "ValueError",
     "evalue": "time data '-' does not match format '%H:%M'",
     "output_type": "error",
     "traceback": [
      "\u001b[0;31m---------------------------------------------------------------------------\u001b[0m",
      "\u001b[0;31mValueError\u001b[0m                                Traceback (most recent call last)",
      "\u001b[0;32m<ipython-input-10-6fb864288b30>\u001b[0m in \u001b[0;36m<module>\u001b[0;34m()\u001b[0m\n\u001b[1;32m      2\u001b[0m \u001b[0;32mfor\u001b[0m \u001b[0mcol\u001b[0m \u001b[0;32min\u001b[0m \u001b[0mdf\u001b[0m\u001b[0;34m[\u001b[0m\u001b[0;34m'EG9123'\u001b[0m\u001b[0;34m]\u001b[0m\u001b[0;34m:\u001b[0m\u001b[0;34m\u001b[0m\u001b[0m\n\u001b[1;32m      3\u001b[0m     \u001b[0;32mif\u001b[0m \u001b[0mtype\u001b[0m\u001b[0;34m(\u001b[0m\u001b[0mcol\u001b[0m\u001b[0;34m)\u001b[0m \u001b[0;34m==\u001b[0m \u001b[0mstr\u001b[0m\u001b[0;34m:\u001b[0m\u001b[0;34m\u001b[0m\u001b[0m\n\u001b[0;32m----> 4\u001b[0;31m         \u001b[0mtime\u001b[0m \u001b[0;34m=\u001b[0m \u001b[0mdatetime\u001b[0m\u001b[0;34m.\u001b[0m\u001b[0mstrptime\u001b[0m\u001b[0;34m(\u001b[0m\u001b[0mcol\u001b[0m\u001b[0;34m,\u001b[0m \u001b[0;34m\"%H:%M\"\u001b[0m\u001b[0;34m)\u001b[0m\u001b[0;34m\u001b[0m\u001b[0m\n\u001b[0m\u001b[1;32m      5\u001b[0m         \u001b[0mprint\u001b[0m \u001b[0;34m(\u001b[0m\u001b[0;34m\"the time is %s:%s\"\u001b[0m \u001b[0;34m%\u001b[0m \u001b[0;34m(\u001b[0m\u001b[0mtime\u001b[0m\u001b[0;34m.\u001b[0m\u001b[0mhour\u001b[0m\u001b[0;34m,\u001b[0m \u001b[0mtime\u001b[0m\u001b[0;34m.\u001b[0m\u001b[0mminute\u001b[0m\u001b[0;34m)\u001b[0m\u001b[0;34m)\u001b[0m\u001b[0;34m\u001b[0m\u001b[0m\n\u001b[1;32m      6\u001b[0m     \u001b[0;32melse\u001b[0m\u001b[0;34m:\u001b[0m\u001b[0;34m\u001b[0m\u001b[0m\n",
      "\u001b[0;32m/usr/lib/python3.6/_strptime.py\u001b[0m in \u001b[0;36m_strptime_datetime\u001b[0;34m(cls, data_string, format)\u001b[0m\n\u001b[1;32m    563\u001b[0m     \"\"\"Return a class cls instance based on the input string and the\n\u001b[1;32m    564\u001b[0m     format string.\"\"\"\n\u001b[0;32m--> 565\u001b[0;31m     \u001b[0mtt\u001b[0m\u001b[0;34m,\u001b[0m \u001b[0mfraction\u001b[0m \u001b[0;34m=\u001b[0m \u001b[0m_strptime\u001b[0m\u001b[0;34m(\u001b[0m\u001b[0mdata_string\u001b[0m\u001b[0;34m,\u001b[0m \u001b[0mformat\u001b[0m\u001b[0;34m)\u001b[0m\u001b[0;34m\u001b[0m\u001b[0m\n\u001b[0m\u001b[1;32m    566\u001b[0m     \u001b[0mtzname\u001b[0m\u001b[0;34m,\u001b[0m \u001b[0mgmtoff\u001b[0m \u001b[0;34m=\u001b[0m \u001b[0mtt\u001b[0m\u001b[0;34m[\u001b[0m\u001b[0;34m-\u001b[0m\u001b[0;36m2\u001b[0m\u001b[0;34m:\u001b[0m\u001b[0;34m]\u001b[0m\u001b[0;34m\u001b[0m\u001b[0m\n\u001b[1;32m    567\u001b[0m     \u001b[0margs\u001b[0m \u001b[0;34m=\u001b[0m \u001b[0mtt\u001b[0m\u001b[0;34m[\u001b[0m\u001b[0;34m:\u001b[0m\u001b[0;36m6\u001b[0m\u001b[0;34m]\u001b[0m \u001b[0;34m+\u001b[0m \u001b[0;34m(\u001b[0m\u001b[0mfraction\u001b[0m\u001b[0;34m,\u001b[0m\u001b[0;34m)\u001b[0m\u001b[0;34m\u001b[0m\u001b[0m\n",
      "\u001b[0;32m/usr/lib/python3.6/_strptime.py\u001b[0m in \u001b[0;36m_strptime\u001b[0;34m(data_string, format)\u001b[0m\n\u001b[1;32m    360\u001b[0m     \u001b[0;32mif\u001b[0m \u001b[0;32mnot\u001b[0m \u001b[0mfound\u001b[0m\u001b[0;34m:\u001b[0m\u001b[0;34m\u001b[0m\u001b[0m\n\u001b[1;32m    361\u001b[0m         raise ValueError(\"time data %r does not match format %r\" %\n\u001b[0;32m--> 362\u001b[0;31m                          (data_string, format))\n\u001b[0m\u001b[1;32m    363\u001b[0m     \u001b[0;32mif\u001b[0m \u001b[0mlen\u001b[0m\u001b[0;34m(\u001b[0m\u001b[0mdata_string\u001b[0m\u001b[0;34m)\u001b[0m \u001b[0;34m!=\u001b[0m \u001b[0mfound\u001b[0m\u001b[0;34m.\u001b[0m\u001b[0mend\u001b[0m\u001b[0;34m(\u001b[0m\u001b[0;34m)\u001b[0m\u001b[0;34m:\u001b[0m\u001b[0;34m\u001b[0m\u001b[0m\n\u001b[1;32m    364\u001b[0m         raise ValueError(\"unconverted data remains: %s\" %\n",
      "\u001b[0;31mValueError\u001b[0m: time data '-' does not match format '%H:%M'"
     ]
    }
   ],
   "source": [
    "from datetime import datetime\n",
    "for col in df['EG9123']:\n",
    "    if type(col) == str:\n",
    "        time = datetime.strptime(col, \"%H:%M\")\n",
    "        print (\"the time is %s:%s\" % (time.hour, time.minute))\n",
    "    else:\n",
    "        print (col)"
   ]
  },
  {
   "cell_type": "markdown",
   "metadata": {},
   "source": [
    "We see error how to handle?"
   ]
  },
  {
   "cell_type": "code",
   "execution_count": 11,
   "metadata": {},
   "outputs": [
    {
     "name": "stdout",
     "output_type": "stream",
     "text": [
      "nan\n",
      "nan\n",
      "nan\n",
      "nan\n",
      "nan\n",
      "nan\n",
      "nan\n",
      "the time is 19:45\n",
      "the time is 19:56\n",
      "the time is 20:12\n",
      "Error parsing -\n",
      "the time is 20:41\n",
      "Error parsing -\n",
      "the time is 21:0\n",
      "Error parsing -\n",
      "the time is 21:31\n",
      "the time is 21:44\n",
      "the time is 21:55\n",
      "the time is 22:5\n",
      "Error parsing -\n",
      "Error parsing -\n",
      "Error parsing -\n",
      "the time is 22:43\n",
      "Error parsing -\n",
      "Error parsing -\n",
      "Error parsing -\n",
      "Error parsing -\n",
      "Error parsing -\n",
      "the time is 0:8\n",
      "the time is 0:13\n",
      "nan\n",
      "nan\n",
      "nan\n",
      "nan\n",
      "nan\n",
      "nan\n"
     ]
    }
   ],
   "source": [
    "from datetime import datetime\n",
    "for col in df['EG9123']:\n",
    "    if type(col) == str:\n",
    "        try:\n",
    "            time = datetime.strptime(col, \"%H:%M\")\n",
    "            print (\"the time is %s:%s\" % (time.hour, time.minute))\n",
    "        except ValueError:\n",
    "            print (\"Error parsing %s\" % (col))\n",
    "    else:\n",
    "        print (col)"
   ]
  },
  {
   "cell_type": "markdown",
   "metadata": {},
   "source": [
    "OK, now we want to create a dataframe for our object\n",
    "Lets conceptualize what we plan to do."
   ]
  },
  {
   "cell_type": "code",
   "execution_count": 12,
   "metadata": {},
   "outputs": [
    {
     "name": "stdout",
     "output_type": "stream",
     "text": [
      "       train  train2\n",
      "city1    1.0     2.0\n",
      "city2    2.3     3.4\n"
     ]
    }
   ],
   "source": [
    "sample_data = {\"train\": {\"city1\": 1, \"city2\": 2.3},\n",
    "       \"train2\": {\"city1\": 2, \"city2\": 3.4}}\n",
    "sample_data_frame = pd.DataFrame(sample_data)\n",
    "print(sample_data_frame)"
   ]
  },
  {
   "cell_type": "code",
   "execution_count": 13,
   "metadata": {},
   "outputs": [],
   "source": [
    "sample_chart_data = sample_data_frame[\"train\"]"
   ]
  },
  {
   "cell_type": "code",
   "execution_count": 14,
   "metadata": {},
   "outputs": [
    {
     "data": {
      "text/plain": [
       "<matplotlib.axes._subplots.AxesSubplot at 0x7f8f842b8438>"
      ]
     },
     "execution_count": 14,
     "metadata": {},
     "output_type": "execute_result"
    },
    {
     "data": {
      "image/png": "[encoded data removed]",
      "text/plain": [
       "<Figure size 432x288 with 1 Axes>"
      ]
     },
     "metadata": {},
     "output_type": "display_data"
    }
   ],
   "source": [
    "sample_chart_data.plot(kind='bar')"
   ]
  },
  {
   "cell_type": "code",
   "execution_count": 15,
   "metadata": {},
   "outputs": [
    {
     "data": {
      "text/plain": [
       "<matplotlib.axes._subplots.AxesSubplot at 0x7f8f821d1b70>"
      ]
     },
     "execution_count": 15,
     "metadata": {},
     "output_type": "execute_result"
    },
    {
     "data": {
      "image/png": "[encoded data removed]",
      "text/plain": [
       "<Figure size 432x288 with 1 Axes>"
      ]
     },
     "metadata": {},
     "output_type": "display_data"
    }
   ],
   "source": [
    "sample_chart_data = sample_chart_data.sort_values(ascending=False)\n",
    "sample_chart_data.plot(kind='bar')"
   ]
  },
  {
   "cell_type": "markdown",
   "metadata": {},
   "source": [
    "Now lets try to convert information that we get from csv to distance chart"
   ]
  },
  {
   "cell_type": "markdown",
   "metadata": {},
   "source": [
    "1. Changing schedule data to time taken data"
   ]
  },
  {
   "cell_type": "code",
   "execution_count": 16,
   "metadata": {},
   "outputs": [],
   "source": [
    "# sample time substraction methods, then you will get (minutes, seconds)\n",
    "a = datetime.now()\n",
    "b = datetime.now()\n",
    "c = b - a\n",
    "divmod(c.days * 86400 + c.seconds, 60)\n",
    "\n",
    "from datetime import timedelta\n",
    "def timeDifference(starting, ending):\n",
    "    if ending < starting:\n",
    "        ending += timedelta(days=1)\n",
    "    td = ending - starting\n",
    "    return td.seconds/60\n",
    "    #return (td.seconds//3600, (td.seconds//60)%60)"
   ]
  },
  {
   "cell_type": "code",
   "execution_count": 17,
   "metadata": {},
   "outputs": [
    {
     "name": "stdout",
     "output_type": "stream",
     "text": [
      "{'EG9123': {'BUTTERWORTH': 0, 'BUKIT MERTAJAM': 11.0, 'PARIT BUNTAR': 27.0, 'BAGAN SERAI': 56.0, 'TAIPING': 75.0, 'PADANG RENGAS': 106.0, 'KUALA KANGSAR': 119.0, 'SUNGAI SIPUT': 130.0, 'IPOH': 140.0, 'BATU GAJAH': 178.0, 'KAMPAR': 263.0, 'TAPAH ROAD': 268.0}}\n"
     ]
    }
   ],
   "source": [
    "starting_time = None\n",
    "train_time_taken_data = {\"EG9123\": {}}\n",
    "row_index = 0\n",
    "\n",
    "for col in df['EG9123']:\n",
    "    if type(col) == str:\n",
    "        try:\n",
    "            time = datetime.strptime(col, \"%H:%M\")\n",
    "            #print (\"the time is %s:%s\" % (time.hour, time.minute))\n",
    "            if starting_time == None:\n",
    "                # This is the first station\n",
    "                starting_time = time\n",
    "                train_time_taken_data[\"EG9123\"].update({df['STESEN'][row_index]: 0})\n",
    "            else:\n",
    "                train_time_taken_data[\"EG9123\"].update({df['STESEN'][row_index]: timeDifference(starting_time, time)})\n",
    "        except ValueError:\n",
    "            #print (\"Error parsing %s\" % (col))\n",
    "            continue\n",
    "\n",
    "    row_index+=1\n",
    "    \n",
    "print(train_time_taken_data)"
   ]
  },
  {
   "cell_type": "markdown",
   "metadata": {},
   "source": [
    "2. Make them into data frame"
   ]
  },
  {
   "cell_type": "code",
   "execution_count": 29,
   "metadata": {},
   "outputs": [
    {
     "name": "stdout",
     "output_type": "stream",
     "text": [
      "                EG9123\n",
      "BUTTERWORTH        0.0\n",
      "BUKIT MERTAJAM    11.0\n",
      "PARIT BUNTAR      27.0\n",
      "BAGAN SERAI       56.0\n",
      "TAIPING           75.0\n",
      "PADANG RENGAS    106.0\n",
      "KUALA KANGSAR    119.0\n",
      "SUNGAI SIPUT     130.0\n",
      "IPOH             140.0\n",
      "BATU GAJAH       178.0\n",
      "KAMPAR           263.0\n",
      "TAPAH ROAD       268.0\n"
     ]
    }
   ],
   "source": [
    "train_time_taken_data_frame = pd.DataFrame(train_time_taken_data)\n",
    "sorted_data = train_time_taken_data_frame.sort_values('EG9123')\n",
    "print(sorted_data)"
   ]
  },
  {
   "cell_type": "markdown",
   "metadata": {},
   "source": [
    "3. plot them out"
   ]
  },
  {
   "cell_type": "code",
   "execution_count": 40,
   "metadata": {},
   "outputs": [
    {
     "data": {
      "text/plain": [
       "<matplotlib.axes._subplots.AxesSubplot at 0x7f8f81bb6940>"
      ]
     },
     "execution_count": 40,
     "metadata": {},
     "output_type": "execute_result"
    },
    {
     "data": {
      "image/png": "[encoded data removed]",
      "text/plain": [
       "<Figure size 432x288 with 1 Axes>"
      ]
     },
     "metadata": {},
     "output_type": "display_data"
    }
   ],
   "source": [
    "chart_data = sorted_data['EG9123']\n",
    "chart_data.plot(x=df['STESEN'], kind='bar')"
   ]
  }
 ],
 "metadata": {
  "kernelspec": {
   "display_name": "Python 3",
   "language": "python",
   "name": "python3"
  },
  "language_info": {
   "codemirror_mode": {
    "name": "ipython",
    "version": 3
   },
   "file_extension": ".py",
   "mimetype": "text/x-python",
   "name": "python",
   "nbconvert_exporter": "python",
   "pygments_lexer": "ipython3",
   "version": "3.6.5"
  }
 },
 "nbformat": 4,
 "nbformat_minor": 2
}
